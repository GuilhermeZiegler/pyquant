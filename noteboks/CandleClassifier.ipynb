{
 "cells": [
  {
   "cell_type": "code",
   "execution_count": null,
   "metadata": {},
   "outputs": [],
   "source": [
    "\n",
    "import random\n",
    "import pandas as pd\n",
    "import tensorflow as tf\n",
    "import matplotlib.pyplot as plt\n",
    "from tkinter import Tk, Label, Button\n",
    "import os"
   ]
  },
  {
   "cell_type": "code",
   "execution_count": null,
   "metadata": {},
   "outputs": [],
   "source": []
  },
  {
   "cell_type": "code",
   "execution_count": null,
   "metadata": {},
   "outputs": [
    {
     "name": "stdout",
     "output_type": "stream",
     "text": [
      "Original Tensor Data:\n",
      "[[[0.26490322 0.31531775 0.09829078 0.16782223]\n",
      "  [0.85272086 0.9084135  0.41698137 0.5091184 ]\n",
      "  [0.69215107 0.8073869  0.6104537  0.7267926 ]\n",
      "  [0.49340367 0.57709754 0.3109143  0.36616662]\n",
      "  [0.7892573  0.85355365 0.663485   0.76153284]]\n",
      "\n",
      " [[0.88881725 0.95843166 0.6268051  0.7132412 ]\n",
      "  [0.34378335 0.5654078  0.24926071 0.50119853]\n",
      "  [0.79063755 0.86204654 0.14880572 0.2197678 ]\n",
      "  [0.8953871  0.9933373  0.3255598  0.419972  ]\n",
      "  [0.2547936  0.35021076 0.15695982 0.22300445]]\n",
      "\n",
      " [[0.23053786 0.48031226 0.17032081 0.39298534]\n",
      "  [0.3155401  0.39050132 0.13730131 0.21669406]\n",
      "  [0.18377893 0.7942383  0.09093277 0.72398734]\n",
      "  [0.3341264  0.5188605  0.2623583  0.41976348]\n",
      "  [0.6927875  0.78704727 0.18329327 0.2767571 ]]\n",
      "\n",
      " [[0.5428613  0.6213761  0.38696492 0.44392377]\n",
      "  [0.26435155 0.47668937 0.19773416 0.40158278]\n",
      "  [0.7852784  0.8677342  0.6201569  0.6758358 ]\n",
      "  [0.1471787  0.6599769  0.07930911 0.5925243 ]\n",
      "  [0.22429894 0.411893   0.15378252 0.31405807]]\n",
      "\n",
      " [[0.37362048 0.42758003 0.25005946 0.32833704]\n",
      "  [0.53769296 0.72273993 0.48304704 0.66656363]\n",
      "  [0.5503206  0.77627563 0.45293558 0.6813396 ]\n",
      "  [0.76445043 0.8411263  0.57051444 0.6233858 ]\n",
      "  [0.6955856  0.8075434  0.63317776 0.7249437 ]]]\n",
      "\n",
      "Normalized Tensor Data:\n",
      "[[[0.26210454 0.31289062 0.09426413 0.16430803]\n",
      "  [0.8542544  0.91035753 0.4153035  0.5081196 ]\n",
      "  [0.6925012  0.8085863  0.6102018  0.72739804]\n",
      "  [0.49228904 0.5765997  0.30845472 0.36411425]\n",
      "  [0.7903231  0.85509336 0.66362387 0.7623943 ]]\n",
      "\n",
      " [[0.89061683 0.9607443  0.62667364 0.7137468 ]\n",
      "  [0.341566   0.56482387 0.24634671 0.5001413 ]\n",
      "  [0.79171354 0.86364883 0.14515138 0.21663643]\n",
      "  [0.8972351  0.9959072  0.32320815 0.4183162 ]\n",
      "  [0.2519204  0.3480408  0.15336557 0.21989694]]\n",
      "\n",
      " [[0.22748588 0.47910115 0.16682503 0.39113063]\n",
      "  [0.3131146  0.3886283  0.13356218 0.21354005]\n",
      "  [0.18038233 0.79534084 0.08685189 0.7245721 ]\n",
      "  [0.3318379  0.5179335  0.25954086 0.4181061 ]\n",
      "  [0.69314235 0.7880968  0.17989309 0.27404577]]\n",
      "\n",
      " [[0.54211116 0.6212046  0.38506582 0.44244447]\n",
      "  [0.2615488  0.47545156 0.19444042 0.39979142]\n",
      "  [0.78631485 0.8693784  0.6199764  0.6760657 ]\n",
      "  [0.14351235 0.6600899  0.07514257 0.5921402 ]\n",
      "  [0.22120097 0.41017765 0.15016484 0.31162164]]\n",
      "\n",
      " [[0.37162304 0.42598027 0.24715135 0.32600588]\n",
      "  [0.53690475 0.72331554 0.48185608 0.6667252 ]\n",
      "  [0.54962546 0.77724576 0.45152268 0.6816101 ]\n",
      "  [0.7653334  0.8425744  0.5699681  0.62322915]\n",
      "  [0.69596106 0.80874395 0.63309324 0.7255355 ]]]\n",
      "X shape: (1000, 5, 4)\n",
      "y shape: (1000,)\n",
      "Epoch 1/20\n"
     ]
    },
    {
     "ename": "ValueError",
     "evalue": "Arguments `target` and `output` must have the same rank (ndim). Received: target.shape=(32,), output.shape=(32, 5, 1)",
     "output_type": "error",
     "traceback": [
      "\u001b[1;31m---------------------------------------------------------------------------\u001b[0m\n",
      "\u001b[1;31mValueError\u001b[0m                                Traceback (most recent call last)\n",
      "Cell \u001b[1;32mIn[6], line 172\u001b[0m\n",
      "\u001b[0;32m    169\u001b[0m X_train, X_val, y_train, y_val \u001b[38;5;241m=\u001b[39m train_test_split(X_train, y_train, test_size\u001b[38;5;241m=\u001b[39m\u001b[38;5;241m0.2\u001b[39m, random_state\u001b[38;5;241m=\u001b[39m\u001b[38;5;241m42\u001b[39m)\n",
      "\u001b[0;32m    171\u001b[0m \u001b[38;5;66;03m# Train the model\u001b[39;00m\n",
      "\u001b[1;32m--> 172\u001b[0m hammer_nn\u001b[38;5;241m.\u001b[39mtrain(X_train, y_train, X_val, y_val)\n",
      "\u001b[0;32m    174\u001b[0m \u001b[38;5;66;03m# Evaluate the model\u001b[39;00m\n",
      "\u001b[0;32m    175\u001b[0m hammer_nn\u001b[38;5;241m.\u001b[39mevaluate(X_test, y_test)\n",
      "\n",
      "Cell \u001b[1;32mIn[6], line 103\u001b[0m, in \u001b[0;36mfitHammerNN.train\u001b[1;34m(self, X_train, y_train, X_val, y_val)\u001b[0m\n",
      "\u001b[0;32m     99\u001b[0m \u001b[38;5;28;01mdef\u001b[39;00m \u001b[38;5;21mtrain\u001b[39m(\u001b[38;5;28mself\u001b[39m, X_train, y_train, X_val, y_val):\n",
      "\u001b[0;32m    100\u001b[0m \u001b[38;5;250m    \u001b[39m\u001b[38;5;124;03m\"\"\"\u001b[39;00m\n",
      "\u001b[0;32m    101\u001b[0m \u001b[38;5;124;03m    Train the model with the given training and validation data.\u001b[39;00m\n",
      "\u001b[0;32m    102\u001b[0m \u001b[38;5;124;03m    \"\"\"\u001b[39;00m\n",
      "\u001b[1;32m--> 103\u001b[0m     history \u001b[38;5;241m=\u001b[39m \u001b[38;5;28mself\u001b[39m\u001b[38;5;241m.\u001b[39mmodel\u001b[38;5;241m.\u001b[39mfit(X_train, y_train, epochs\u001b[38;5;241m=\u001b[39m\u001b[38;5;28mself\u001b[39m\u001b[38;5;241m.\u001b[39mepochs, batch_size\u001b[38;5;241m=\u001b[39m\u001b[38;5;28mself\u001b[39m\u001b[38;5;241m.\u001b[39mbatch_size,\n",
      "\u001b[0;32m    104\u001b[0m                             validation_data\u001b[38;5;241m=\u001b[39m(X_val, y_val))\n",
      "\u001b[0;32m    105\u001b[0m     \u001b[38;5;28;01mreturn\u001b[39;00m history\n",
      "\n",
      "File \u001b[1;32mc:\\Users\\guitz\\anaconda3\\Lib\\site-packages\\keras\\src\\utils\\traceback_utils.py:122\u001b[0m, in \u001b[0;36mfilter_traceback.<locals>.error_handler\u001b[1;34m(*args, **kwargs)\u001b[0m\n",
      "\u001b[0;32m    119\u001b[0m     filtered_tb \u001b[38;5;241m=\u001b[39m _process_traceback_frames(e\u001b[38;5;241m.\u001b[39m__traceback__)\n",
      "\u001b[0;32m    120\u001b[0m     \u001b[38;5;66;03m# To get the full stack trace, call:\u001b[39;00m\n",
      "\u001b[0;32m    121\u001b[0m     \u001b[38;5;66;03m# `keras.config.disable_traceback_filtering()`\u001b[39;00m\n",
      "\u001b[1;32m--> 122\u001b[0m     \u001b[38;5;28;01mraise\u001b[39;00m e\u001b[38;5;241m.\u001b[39mwith_traceback(filtered_tb) \u001b[38;5;28;01mfrom\u001b[39;00m \u001b[38;5;28;01mNone\u001b[39;00m\n",
      "\u001b[0;32m    123\u001b[0m \u001b[38;5;28;01mfinally\u001b[39;00m:\n",
      "\u001b[0;32m    124\u001b[0m     \u001b[38;5;28;01mdel\u001b[39;00m filtered_tb\n",
      "\n",
      "File \u001b[1;32mc:\\Users\\guitz\\anaconda3\\Lib\\site-packages\\keras\\src\\backend\\tensorflow\\nn.py:694\u001b[0m, in \u001b[0;36mbinary_crossentropy\u001b[1;34m(target, output, from_logits)\u001b[0m\n",
      "\u001b[0;32m    691\u001b[0m output \u001b[38;5;241m=\u001b[39m tf\u001b[38;5;241m.\u001b[39mconvert_to_tensor(output)\n",
      "\u001b[0;32m    693\u001b[0m \u001b[38;5;28;01mif\u001b[39;00m \u001b[38;5;28mlen\u001b[39m(target\u001b[38;5;241m.\u001b[39mshape) \u001b[38;5;241m!=\u001b[39m \u001b[38;5;28mlen\u001b[39m(output\u001b[38;5;241m.\u001b[39mshape):\n",
      "\u001b[1;32m--> 694\u001b[0m     \u001b[38;5;28;01mraise\u001b[39;00m \u001b[38;5;167;01mValueError\u001b[39;00m(\n",
      "\u001b[0;32m    695\u001b[0m         \u001b[38;5;124m\"\u001b[39m\u001b[38;5;124mArguments `target` and `output` must have the same rank \u001b[39m\u001b[38;5;124m\"\u001b[39m\n",
      "\u001b[0;32m    696\u001b[0m         \u001b[38;5;124m\"\u001b[39m\u001b[38;5;124m(ndim). Received: \u001b[39m\u001b[38;5;124m\"\u001b[39m\n",
      "\u001b[0;32m    697\u001b[0m         \u001b[38;5;124mf\u001b[39m\u001b[38;5;124m\"\u001b[39m\u001b[38;5;124mtarget.shape=\u001b[39m\u001b[38;5;132;01m{\u001b[39;00mtarget\u001b[38;5;241m.\u001b[39mshape\u001b[38;5;132;01m}\u001b[39;00m\u001b[38;5;124m, output.shape=\u001b[39m\u001b[38;5;132;01m{\u001b[39;00moutput\u001b[38;5;241m.\u001b[39mshape\u001b[38;5;132;01m}\u001b[39;00m\u001b[38;5;124m\"\u001b[39m\n",
      "\u001b[0;32m    698\u001b[0m     )\n",
      "\u001b[0;32m    699\u001b[0m \u001b[38;5;28;01mfor\u001b[39;00m e1, e2 \u001b[38;5;129;01min\u001b[39;00m \u001b[38;5;28mzip\u001b[39m(target\u001b[38;5;241m.\u001b[39mshape, output\u001b[38;5;241m.\u001b[39mshape):\n",
      "\u001b[0;32m    700\u001b[0m     \u001b[38;5;28;01mif\u001b[39;00m e1 \u001b[38;5;129;01mis\u001b[39;00m \u001b[38;5;129;01mnot\u001b[39;00m \u001b[38;5;28;01mNone\u001b[39;00m \u001b[38;5;129;01mand\u001b[39;00m e2 \u001b[38;5;129;01mis\u001b[39;00m \u001b[38;5;129;01mnot\u001b[39;00m \u001b[38;5;28;01mNone\u001b[39;00m \u001b[38;5;129;01mand\u001b[39;00m e1 \u001b[38;5;241m!=\u001b[39m e2:\n",
      "\n",
      "\u001b[1;31mValueError\u001b[0m: Arguments `target` and `output` must have the same rank (ndim). Received: target.shape=(32,), output.shape=(32, 5, 1)"
     ]
    }
   ],
   "source": []
  },
  {
   "cell_type": "code",
   "execution_count": null,
   "metadata": {},
   "outputs": [],
   "source": [
    "# Example usage\n",
    "df = pd.read_csv('C:\\\\Users\\\\guitz\\\\OneDrive\\\\Área de Trabalho\\\\pyquant\\\\pyquant\\\\csv\\\\prices_volume.csv',  encoding='utf-16', delimiter=',')\n",
    "df.columns = [col.lower() for col in df.columns]\n",
    "                        \n",
    "if df.columns[0] == 'date':\n",
    "    df['datetime'] = pd.to_datetime(df['date'].astype(str) + ' ' + df['time'].astype(str), format='%Y.%m.%d %H:%M')\n",
    "    df.drop(columns=['date', 'time'], inplace=True)\n",
    "    \n",
    "df.set_index('datetime', inplace=True, drop=True)\n",
    "df = df.tail(1000)\n",
    "tensor_size = 1\n"
   ]
  },
  {
   "cell_type": "code",
   "execution_count": 4,
   "metadata": {},
   "outputs": [],
   "source": [
    "candle_tensor = CandleTensor(df)\n",
    "tensor_data, _ = candle_tensor.candle_to_tensor()\n",
    "root = Tk()\n",
    "app = ImageClassifierGUI(root, tensor_data)\n",
    "root.mainloop()\n"
   ]
  },
  {
   "cell_type": "code",
   "execution_count": null,
   "metadata": {},
   "outputs": [],
   "source": []
  }
 ],
 "metadata": {
  "kernelspec": {
   "display_name": "base",
   "language": "python",
   "name": "python3"
  },
  "language_info": {
   "codemirror_mode": {
    "name": "ipython",
    "version": 3
   },
   "file_extension": ".py",
   "mimetype": "text/x-python",
   "name": "python",
   "nbconvert_exporter": "python",
   "pygments_lexer": "ipython3",
   "version": "3.11.5"
  }
 },
 "nbformat": 4,
 "nbformat_minor": 2
}
