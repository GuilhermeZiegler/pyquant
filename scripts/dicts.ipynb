{
 "cells": [
  {
   "cell_type": "code",
   "execution_count": 2,
   "metadata": {},
   "outputs": [],
   "source": [
    "import pickle"
   ]
  },
  {
   "cell_type": "code",
   "execution_count": 3,
   "metadata": {},
   "outputs": [],
   "source": [
    "\n",
    "# Dicionários que você deseja salvar\n",
    "candles_dict = {\n",
    "    'threshold_dict': {\n",
    "        'doji_threshold': 0.00125,\n",
    "        'bullish_threshold': 0.005,\n",
    "        'bearish_threshold': 0.005,\n",
    "        'volatility_window': 7\n",
    "    }\n",
    "}\n",
    "\n",
    "morning_star_dict = {\n",
    "    'morning_star_dict': {\n",
    "        'bullish_threshold': 0.33,\n",
    "        'bearish_threshold': 0.2,\n",
    "    }\n",
    "}\n",
    "\n",
    "# Lista de dicionários\n",
    "dict = [candles_dict, morning_star_dict]\n",
    "\n",
    "# Salvar a lista de dicionários em um arquivo .pkl\n",
    "with open('threshold_dicts.pkl', 'wb') as file:\n",
    "    pickle.dump(dict, file)"
   ]
  },
  {
   "cell_type": "code",
   "execution_count": 4,
   "metadata": {},
   "outputs": [
    {
     "name": "stdout",
     "output_type": "stream",
     "text": [
      "Candles Dictionary: {'threshold_dict': {'doji_threshold': 0.00125, 'bullish_threshold': 0.005, 'bearish_threshold': 0.005, 'volatility_window': 7}}\n",
      "Morning Star Dictionary: {'morning_star_dict': {'bullish_threshold': 0.33, 'bearish_threshold': 0.2}}\n"
     ]
    }
   ],
   "source": [
    "# Carregar os dados do arquivo .pkl\n",
    "with open('threshold_dicts.pkl', 'rb') as file:\n",
    "    loaded_data = pickle.load(file)\n",
    "\n",
    "# Acessar os dicionários\n",
    "candles_dict = next(item for item in loaded_data if 'threshold_dict' in item)\n",
    "morning_star_dict = next(item for item in loaded_data if 'morning_star_dict' in item)\n",
    "\n",
    "# Usar os dados\n",
    "print(\"Candles Dictionary:\", candles_dict)\n",
    "print(\"Morning Star Dictionary:\", morning_star_dict)"
   ]
  },
  {
   "cell_type": "code",
   "execution_count": null,
   "metadata": {},
   "outputs": [],
   "source": []
  }
 ],
 "metadata": {
  "kernelspec": {
   "display_name": "base",
   "language": "python",
   "name": "python3"
  },
  "language_info": {
   "codemirror_mode": {
    "name": "ipython",
    "version": 3
   },
   "file_extension": ".py",
   "mimetype": "text/x-python",
   "name": "python",
   "nbconvert_exporter": "python",
   "pygments_lexer": "ipython3",
   "version": "3.11.5"
  }
 },
 "nbformat": 4,
 "nbformat_minor": 2
}
