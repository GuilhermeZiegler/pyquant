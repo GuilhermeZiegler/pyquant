{
 "cells": [
  {
   "cell_type": "code",
   "execution_count": 36,
   "metadata": {},
   "outputs": [],
   "source": [
    "import pickle\n",
    "\n",
    "import csv\n",
    "from io import StringIO"
   ]
  },
  {
   "cell_type": "code",
   "execution_count": 40,
   "metadata": {},
   "outputs": [
    {
     "name": "stdout",
     "output_type": "stream",
     "text": [
      "Candles Dictionary: {'threshold_dict': {'doji_threshold': 0.00125, 'bullish_threshold': 0.005, 'bearish_threshold': 0.005, 'volatility_window': 7}}\n",
      "Morning Star Dictionary: {'morning_star_dict': {'bullish_threshold': 0.33, 'bearish_threshold': 0.2}}\n",
      "rolling_cross_dict {'rolling_cross_dict': {'sma_5_l0': {'short': 5, 'long': 10}, 'sma_5_20': {'short': 5, 'long': 20}, 'sma_10_30': {'short': 10, 'long': 30}, 'sma_10_50': {'short': 10, 'long': 50}, 'sma_20_50': {'short': 20, 'long': 50}, 'sma_20_100': {'short': 20, 'long': 100}, 'sma_50_100': {'short': 50, 'long': 100}, 'sma_50_150': {'short': 50, 'long': 150}, 'sma_100_200': {'short': 100, 'long': 200}, 'ema_5_10': {'short': 5, 'long': 10}, 'ema_5_20': {'short': 5, 'long': 20}, 'ema_10_30': {'short': 10, 'long': 30}, 'ema_10_50': {'short': 10, 'long': 50}, 'ema_20_50': {'short': 20, 'long': 50}, 'ema_20_100': {'short': 20, 'long': 100}, 'ema_50_100': {'short': 50, 'long': 100}, 'ema_50_150': {'short': 50, 'long': 150}, 'ema_100_200': {'short': 100, 'long': 200}, 'macd_9_12': {'short': 12, 'long': 26}, 'macd_9_30': {'short': 30, 'long': 60}, 'macd_12_26': {'short': 12, 'long': 26}, 'macd_12_50': {'short': 12, 'long': 50}, 'macd_26_50': {'short': 26, 'long': 50}, 'macd_26_100': {'short': 26, 'long': 100}, 'macd_50_100': {'short': 50, 'long': 100}, 'macd_50_200': {'short': 50, 'long': 200}}}\n"
     ]
    }
   ],
   "source": [
    "\n",
    "# Dicionários que você deseja salvar\n",
    "candles_dict = {\n",
    "    'threshold_dict': {\n",
    "        'doji_threshold': 0.00125,\n",
    "        'bullish_threshold': 0.005,\n",
    "        'bearish_threshold': 0.005,\n",
    "        'volatility_window': 7\n",
    "    }\n",
    "}\n",
    "\n",
    "morning_star_dict = {\n",
    "    'morning_star_dict': {\n",
    "        'bullish_threshold': 0.33,\n",
    "        'bearish_threshold': 0.2,\n",
    "    }\n",
    "}\n",
    "\n",
    "rolling_cross_dict = {\n",
    "    'rolling_cross_dict':\n",
    "        {'sma_5_l0': {'short': 5, 'long': 10},\n",
    "        'sma_5_20': {'short': 5, 'long': 20},\n",
    "        'sma_10_30': {'short': 10, 'long': 30},\n",
    "        'sma_10_50': {'short': 10, 'long': 50},\n",
    "        'sma_20_50': {'short': 20, 'long': 50},\n",
    "        'sma_20_100': {'short': 20, 'long': 100},\n",
    "        'sma_50_100': {'short': 50, 'long': 100},\n",
    "        'sma_50_150': {'short': 50, 'long': 150},\n",
    "        'sma_100_200': {'short': 100, 'long': 200},\n",
    "        'ema_5_10': {'short': 5, 'long': 10},\n",
    "        'ema_5_20': {'short': 5, 'long': 20},\n",
    "        'ema_10_30': {'short': 10, 'long': 30},\n",
    "        'ema_10_50': {'short': 10, 'long': 50},\n",
    "        'ema_20_50': {'short': 20, 'long': 50},\n",
    "        'ema_20_100': {'short': 20, 'long': 100},\n",
    "        'ema_50_100': {'short': 50, 'long': 100},\n",
    "        'ema_50_150': {'short': 50, 'long': 150},\n",
    "        'ema_100_200': {'short': 100, 'long': 200},\n",
    "        'macd_9_12': {'short': 12, 'long': 26},\n",
    "        'macd_9_30': {'short': 30, 'long': 60},\n",
    "        'macd_12_26': {'short': 12, 'long': 26},\n",
    "        'macd_12_50': {'short': 12, 'long': 50},\n",
    "        'macd_26_50': {'short': 26, 'long': 50},\n",
    "        'macd_26_100': {'short': 26, 'long': 100},\n",
    "        'macd_50_100': {'short': 50, 'long': 100},\n",
    "        'macd_50_200': {'short': 50, 'long': 200}\n",
    "    }\n",
    "}\n",
    "\n",
    "\n",
    "dicts = [candles_dict, morning_star_dict, rolling_cross_dict]\n",
    "\n",
    "with open('..//pkl//threshold_dicts.pkl', 'wb') as file:\n",
    "    pickle.dump(dicts, file)\n",
    "\n",
    "print(\"Candles Dictionary:\", candles_dict)\n",
    "print(\"Morning Star Dictionary:\", morning_star_dict)\n",
    "print(\"rolling_cross_dict\", rolling_cross_dict)"
   ]
  },
  {
   "cell_type": "code",
   "execution_count": null,
   "metadata": {},
   "outputs": [],
   "source": []
  }
 ],
 "metadata": {
  "kernelspec": {
   "display_name": "base",
   "language": "python",
   "name": "python3"
  },
  "language_info": {
   "codemirror_mode": {
    "name": "ipython",
    "version": 3
   },
   "file_extension": ".py",
   "mimetype": "text/x-python",
   "name": "python",
   "nbconvert_exporter": "python",
   "pygments_lexer": "ipython3",
   "version": "3.11.5"
  }
 },
 "nbformat": 4,
 "nbformat_minor": 2
}
