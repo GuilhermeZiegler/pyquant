{
 "cells": [
  {
   "cell_type": "code",
   "execution_count": null,
   "metadata": {},
   "outputs": [],
   "source": [
    "import os\n",
    "import glob\n",
    "import pickle\n",
    "import pandas as pd"
   ]
  },
  {
   "cell_type": "markdown",
   "metadata": {},
   "source": [
    "The code below opens different windows_size pkl files and gets all strategies in a single dict"
   ]
  },
  {
   "cell_type": "code",
   "execution_count": null,
   "metadata": {},
   "outputs": [],
   "source": [
    "\n",
    "def load_pickle(file_path):\n",
    "    with open(file_path, 'rb') as file:\n",
    "        return pickle.load(file)\n",
    "\n",
    "def calculate_probability_of_returns(returns, threshold=1):\n",
    "    return sum(r > threshold for r in returns) / len(returns)\n",
    "\n",
    "directory_path = '..\\\\pkl'\n",
    "window_sizes = [30, 60, 90, 120, 150, 180]\n",
    "pattern = '*.pkl'\n",
    "\n",
    "all_smart_strategies = {ws: [] for ws in window_sizes}\n",
    "all_dummy_strategies = {ws: [] for ws in window_sizes}\n",
    "\n",
    "for window_size in window_sizes:\n",
    "    pickle_files = glob.glob(os.path.join(directory_path, f'*{window_size}*.pkl'))\n",
    "    \n",
    "    for pickle_file in pickle_files:\n",
    "        backtest_portfolio = load_pickle(pickle_file)\n",
    "        all_smart_strategies[window_size].extend(backtest_portfolio.smart_strategies)\n",
    "        all_dummy_strategies[window_size].extend(backtest_portfolio.dummy_strategies)\n"
   ]
  },
  {
   "cell_type": "markdown",
   "metadata": {},
   "source": [
    "Change to all_smart_strategies or all_dummy_strategies"
   ]
  },
  {
   "cell_type": "code",
   "execution_count": null,
   "metadata": {},
   "outputs": [],
   "source": [
    "probabilities_dict = {}\n",
    "\n",
    "for key, strategies in all_smart_strategies.items():\n",
    "    metrics = {} \n",
    "    metric_count = {}\n",
    "    \n",
    "    for strategy in strategies:\n",
    "        for metric in strategy.keys():\n",
    "            if metric not in metrics:\n",
    "                metrics[metric] = 0\n",
    "                metric_count[metric] = 0\n",
    "\n",
    "    for strategy in strategies:\n",
    "        for metric, value in strategy.items():\n",
    "            if value > 1:\n",
    "                metrics[metric] += 1\n",
    "            metric_count[metric] += 1\n",
    "    \n",
    "    probabilities = {metric: (metrics[metric] / metric_count[metric] if metric_count[metric] > 0 else 0)\n",
    "                     for metric in metrics}\n",
    "    \n",
    "    probabilities_dict[key] = probabilities\n",
    "\n",
    "\n",
    "df_probabilities = pd.DataFrame(probabilities_dict).T"
   ]
  }
 ],
 "metadata": {
  "language_info": {
   "name": "python"
  }
 },
 "nbformat": 4,
 "nbformat_minor": 2
}
